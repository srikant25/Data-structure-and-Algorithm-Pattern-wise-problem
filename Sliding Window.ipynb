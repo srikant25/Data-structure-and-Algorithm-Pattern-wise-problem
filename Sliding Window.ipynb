{
 "cells": [
  {
   "cell_type": "markdown",
   "id": "d4defa3f",
   "metadata": {},
   "source": [
    "### 1. maximum subarray\n",
    "\n",
    "Given an integer array nums, find the subarray with the largest sum, and return its sum.\n",
    "\n",
    "Input: nums = [-2,1,-3,4,-1,2,1,-5,4]\n",
    "\n",
    "Output: 6\n",
    "\n",
    "Explanation: The subarray [4,-1,2,1] has the largest sum 6."
   ]
  },
  {
   "cell_type": "code",
   "execution_count": null,
   "id": "46922604",
   "metadata": {},
   "outputs": [],
   "source": [
    "def maximum_subarray(nums):\n",
    "    maximum_sum = nums[0]\n",
    "    current_sum = 0\n",
    "    for n in nums:\n",
    "        if current_sum < 0 :\n",
    "            current_sum =0\n",
    "        current_sum +=n\n",
    "        maximum_sum = max(maximum_sum , current_sum)\n",
    "    return maximum_sum\n",
    "nums = [-2,1,-3,4,-1,2,1,-5,4]\n",
    "maximum_subarray(nums)"
   ]
  },
  {
   "cell_type": "markdown",
   "id": "bec99879",
   "metadata": {},
   "source": [
    "### Minimum Size Subarray Sum\n",
    "\n",
    "Given an array of positive integers nums and a positive integer target, return the minimal length of a \n",
    "subarray whose sum is greater than or equal to target. If there is no such subarray, return 0 instead."
   ]
  },
  {
   "cell_type": "code",
   "execution_count": 19,
   "id": "5d364246",
   "metadata": {},
   "outputs": [],
   "source": [
    "from typing import List\n",
    "class Solution:\n",
    "    def minSubArrayLen(self, target: int, nums: List[int]) -> int:\n",
    "        if sum(nums)< target :\n",
    "            return 0\n",
    "\n",
    "        current_sum =0\n",
    "        min_len = len(nums)\n",
    "        left = 0\n",
    "        for i in range(len(nums)):\n",
    "            current_sum +=nums[i]\n",
    "            while current_sum >= target :\n",
    "                if i-left+1 < min_len:\n",
    "                    min_len = i -left+1\n",
    "                #min_len = min(min_len,len(nums[left:i]))\n",
    "                current_sum -=nums[left]\n",
    "                left+=1\n",
    "        return min_len\n",
    "target = 7\n",
    "nums = [2,3,1,2,4,3]\n",
    "minSubArrayLen(nums,target)"
   ]
  },
  {
   "cell_type": "code",
   "execution_count": 20,
   "id": "4ffe234e",
   "metadata": {},
   "outputs": [
    {
     "data": {
      "text/plain": [
       "2"
      ]
     },
     "execution_count": 20,
     "metadata": {},
     "output_type": "execute_result"
    }
   ],
   "source": []
  },
  {
   "cell_type": "code",
   "execution_count": null,
   "id": "cead820e",
   "metadata": {},
   "outputs": [],
   "source": []
  }
 ],
 "metadata": {
  "kernelspec": {
   "display_name": "Python 3 (ipykernel)",
   "language": "python",
   "name": "python3"
  },
  "language_info": {
   "codemirror_mode": {
    "name": "ipython",
    "version": 3
   },
   "file_extension": ".py",
   "mimetype": "text/x-python",
   "name": "python",
   "nbconvert_exporter": "python",
   "pygments_lexer": "ipython3",
   "version": "3.8.3"
  }
 },
 "nbformat": 4,
 "nbformat_minor": 5
}
